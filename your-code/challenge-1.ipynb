{
 "cells": [
  {
   "cell_type": "markdown",
   "metadata": {},
   "source": [
    "# String Operations Lab\n",
    "\n",
    "**Before your start:**\n",
    "\n",
    "- Read the README.md file\n",
    "- Comment as much as you can and use the resources in the README.md file\n",
    "- Happy learning!"
   ]
  },
  {
   "cell_type": "code",
   "execution_count": 35,
   "metadata": {},
   "outputs": [],
   "source": [
    "import re"
   ]
  },
  {
   "cell_type": "markdown",
   "metadata": {},
   "source": [
    "# Challenge 1 - Combining Strings\n",
    "\n",
    "Combining strings is an important skill to acquire. There are multiple ways of combining strings in Python, as well as combining strings with variables. We will explore this in the first challenge. In the cell below, combine the strings in the list and add spaces between the strings (do not add a space after the last string). Insert a period after the last string."
   ]
  },
  {
   "cell_type": "code",
   "execution_count": 8,
   "metadata": {},
   "outputs": [
    {
     "name": "stdout",
     "output_type": "stream",
     "text": [
      "Durante un tiempo no estuvo segura de si su marido era su marido .\n"
     ]
    }
   ],
   "source": [
    "str_list = ['Durante', 'un', 'tiempo', 'no', 'estuvo', 'segura', 'de', 'si', 'su', 'marido', 'era', 'su', 'marido']\n",
    "# Your code here:\n",
    "sentence = \"\"\n",
    "\n",
    "#One option, but because of the final ., I think a while is better:\n",
    "#for element in str_list:\n",
    "#    print(element)\n",
    "#    sentence += element + \" \"\n",
    "\n",
    "#Better this way:\n",
    "i=0\n",
    "while i<len(str_list):\n",
    "    sentence += str_list[i] + \" \"\n",
    "    i+=1\n",
    "sentence += \".\"\n",
    "\n",
    "print(sentence)\n"
   ]
  },
  {
   "cell_type": "markdown",
   "metadata": {},
   "source": [
    "In the cell below, use the list of strings to create a grocery list. Start the list with the string `Grocery list: ` and include a comma and a space between each item except for the last one. Include a period at the end. Only include foods in the list that start with the letter 'b' and ensure all foods are lower case."
   ]
  },
  {
   "cell_type": "code",
   "execution_count": 28,
   "metadata": {
    "scrolled": true
   },
   "outputs": [
    {
     "name": "stdout",
     "output_type": "stream",
     "text": [
      "Grocery list: bananas, bread, brownie mix, broccoli.\n"
     ]
    }
   ],
   "source": [
    "food_list = ['Bananas', 'Chocolate', 'bread', 'diapers', 'Ice Cream', 'Brownie Mix', 'broccoli']\n",
    "# Your code here:\n",
    "sentence = \"Grocery list: \"\n",
    "i=0\n",
    "while i<len(food_list):    \n",
    "    if food_list[i][0].lower()=='b':\n",
    "        if i>1: #for first item, no space\n",
    "            sentence += \" \" \n",
    "        sentence += food_list[i].lower()\n",
    "        if i!=len(food_list)-1: #for last item, no comma\n",
    "            sentence += \",\" \n",
    "    i+=1\n",
    "sentence += \".\"\n",
    "\n",
    "print(sentence)"
   ]
  },
  {
   "cell_type": "markdown",
   "metadata": {},
   "source": [
    "In the cell below, write a function that computes the area of a circle using its radius. Compute the area of the circle and insert the radius and the area between the two strings. Make sure to include spaces between the variable and the strings. \n",
    "\n",
    "Note: You can use the techniques we have learned so far or use f-strings. F-strings allow us to embed code inside strings. You can read more about f-strings [here](https://www.python.org/dev/peps/pep-0498/)."
   ]
  },
  {
   "cell_type": "code",
   "execution_count": 44,
   "metadata": {},
   "outputs": [
    {
     "data": {
      "text/plain": [
       "'The area of the circle with radius: 4.5 is: 63.61725123519331'"
      ]
     },
     "execution_count": 44,
     "metadata": {},
     "output_type": "execute_result"
    }
   ],
   "source": [
    "import math\n",
    "\n",
    "string1 = \"The area of the circle with radius:\"\n",
    "string2  = \"is:\"\n",
    "radius = 4.5\n",
    "\n",
    "def area(x, pi = math.pi):\n",
    "    # This function takes a radius and returns the area of a circle. We also pass a default value for pi.\n",
    "    # Input: Float (and default value for pi)\n",
    "    # Output: Float\n",
    "    \n",
    "    # Sample input: 5.0\n",
    "    # Sample Output: 78.53981633\n",
    "\n",
    "    # Your code here:\n",
    "    return pi*(x**2)\n",
    "\n",
    "# Your output string here:\n",
    "string1 + \" \" + str(radius) + \" \" + string2 + \" \"+ str(area(radius))"
   ]
  },
  {
   "cell_type": "markdown",
   "metadata": {},
   "source": [
    "# Challenge 2 - Splitting Strings\n",
    "\n",
    "We have first looked at combining strings into one long string. There are times where we need to do the opposite and split the string into smaller components for further analysis. \n",
    "\n",
    "In the cell below, split the string into a list of strings using the space delimiter. Count the frequency of each word in the string in a dictionary. Strip the periods, line breaks and commas from the text. Make sure to remove empty strings from your dictionary."
   ]
  },
  {
   "cell_type": "code",
   "execution_count": 55,
   "metadata": {
    "scrolled": false
   },
   "outputs": [
    {
     "data": {
      "text/plain": [
       "'Some say the world will end in fire,\\nSome say in ice.\\nFrom what I’ve tasted of desire\\nI hold with those who favor fire.\\nBut if it had to perish twice,\\nI think I know enough of hate\\nTo say that for destruction ice\\nIs also great\\nAnd would suffice.'"
      ]
     },
     "execution_count": 55,
     "metadata": {},
     "output_type": "execute_result"
    }
   ],
   "source": [
    "poem = \"\"\"Some say the world will end in fire,\n",
    "Some say in ice.\n",
    "From what I’ve tasted of desire\n",
    "I hold with those who favor fire.\n",
    "But if it had to perish twice,\n",
    "I think I know enough of hate\n",
    "To say that for destruction ice\n",
    "Is also great\n",
    "And would suffice.\"\"\"\n",
    "\n",
    "# Your code here:\n",
    "poem"
   ]
  },
  {
   "cell_type": "code",
   "execution_count": 58,
   "metadata": {
    "scrolled": false
   },
   "outputs": [
    {
     "name": "stdout",
     "output_type": "stream",
     "text": [
      "['Some', 'say', 'the', 'world', 'will', 'end', 'in', 'fire', '', 'Some', 'say', 'in', 'ice', '', 'From', 'what', 'I’ve', 'tasted', 'of', 'desire', 'I', 'hold', 'with', 'those', 'who', 'favor', 'fire', '', 'But', 'if', 'it', 'had', 'to', 'perish', 'twice', '', 'I', 'think', 'I', 'know', 'enough', 'of', 'hate', 'To', 'say', 'that', 'for', 'destruction', 'ice', 'Is', 'also', 'great', 'And', 'would', 'suffice', '']\n"
     ]
    },
    {
     "data": {
      "text/plain": [
       "['Some',\n",
       " 'say',\n",
       " 'the',\n",
       " 'world',\n",
       " 'will',\n",
       " 'end',\n",
       " 'in',\n",
       " 'fire',\n",
       " 'Some',\n",
       " 'say',\n",
       " 'in',\n",
       " 'ice',\n",
       " 'From',\n",
       " 'what',\n",
       " 'I’ve',\n",
       " 'tasted',\n",
       " 'of',\n",
       " 'desire',\n",
       " 'I',\n",
       " 'hold',\n",
       " 'with',\n",
       " 'those',\n",
       " 'who',\n",
       " 'favor',\n",
       " 'fire',\n",
       " 'But',\n",
       " 'if',\n",
       " 'it',\n",
       " 'had',\n",
       " 'to',\n",
       " 'perish',\n",
       " 'twice',\n",
       " 'I',\n",
       " 'think',\n",
       " 'I',\n",
       " 'know',\n",
       " 'enough',\n",
       " 'of',\n",
       " 'hate',\n",
       " 'To',\n",
       " 'say',\n",
       " 'that',\n",
       " 'for',\n",
       " 'destruction',\n",
       " 'ice',\n",
       " 'Is',\n",
       " 'also',\n",
       " 'great',\n",
       " 'And',\n",
       " 'would',\n",
       " 'suffice']"
      ]
     },
     "execution_count": 58,
     "metadata": {},
     "output_type": "execute_result"
    }
   ],
   "source": [
    "import re\n",
    "split_poem = re.split('[;,.\\n ]', poem)\n",
    "print(split_poem)\n",
    "\n",
    "#Not sure if the is a better way of removing empty string from my list\n",
    "split_poem2=[]\n",
    "for word in split_poem:\n",
    "    if word !='':\n",
    "        split_poem2.append(word)\n",
    "split_poem2      "
   ]
  },
  {
   "cell_type": "code",
   "execution_count": 59,
   "metadata": {},
   "outputs": [
    {
     "data": {
      "text/plain": [
       "{'Some': 2,\n",
       " 'say': 3,\n",
       " 'the': 1,\n",
       " 'world': 1,\n",
       " 'will': 1,\n",
       " 'end': 1,\n",
       " 'in': 2,\n",
       " 'fire': 2,\n",
       " 'ice': 2,\n",
       " 'From': 1,\n",
       " 'what': 1,\n",
       " 'I’ve': 1,\n",
       " 'tasted': 1,\n",
       " 'of': 2,\n",
       " 'desire': 1,\n",
       " 'I': 3,\n",
       " 'hold': 1,\n",
       " 'with': 1,\n",
       " 'those': 1,\n",
       " 'who': 1,\n",
       " 'favor': 1,\n",
       " 'But': 1,\n",
       " 'if': 1,\n",
       " 'it': 1,\n",
       " 'had': 1,\n",
       " 'to': 1,\n",
       " 'perish': 1,\n",
       " 'twice': 1,\n",
       " 'think': 1,\n",
       " 'know': 1,\n",
       " 'enough': 1,\n",
       " 'hate': 1,\n",
       " 'To': 1,\n",
       " 'that': 1,\n",
       " 'for': 1,\n",
       " 'destruction': 1,\n",
       " 'Is': 1,\n",
       " 'also': 1,\n",
       " 'great': 1,\n",
       " 'And': 1,\n",
       " 'would': 1,\n",
       " 'suffice': 1}"
      ]
     },
     "execution_count": 59,
     "metadata": {},
     "output_type": "execute_result"
    }
   ],
   "source": [
    "#Count the frequency of each word in the string in a dictionary\n",
    "split_poem2\n",
    "poem_dict ={}\n",
    "for word in split_poem2:\n",
    "    if word not in poem_dict:\n",
    "        poem_dict[word]=1\n",
    "    else:\n",
    "        poem_dict[word]+=1\n",
    "\n",
    "poem_dict"
   ]
  },
  {
   "cell_type": "markdown",
   "metadata": {},
   "source": [
    "In the cell below, find all the words that appear in the text and do not appear in the blacklist. You must parse the string but can choose any data structure you wish for the words that do not appear in the blacklist. Remove all non letter characters and convert all words to lower case."
   ]
  },
  {
   "cell_type": "code",
   "execution_count": 66,
   "metadata": {},
   "outputs": [
    {
     "data": {
      "text/plain": [
       "{'&',\n",
       " 'And',\n",
       " 'I',\n",
       " 'In',\n",
       " 'My',\n",
       " 'Night',\n",
       " 'Till',\n",
       " 'When',\n",
       " 'angry',\n",
       " 'apple',\n",
       " 'beheld',\n",
       " 'beneath',\n",
       " 'bore',\n",
       " 'both',\n",
       " 'bright',\n",
       " 'day',\n",
       " 'deceitful',\n",
       " 'did',\n",
       " 'end',\n",
       " 'fears',\n",
       " 'foe',\n",
       " 'foe:',\n",
       " 'friend',\n",
       " 'garden',\n",
       " 'glad',\n",
       " 'grew',\n",
       " 'grow',\n",
       " 'had',\n",
       " 'he',\n",
       " 'into',\n",
       " 'knew',\n",
       " 'mine',\n",
       " 'morning',\n",
       " 'my',\n",
       " 'night',\n",
       " 'not',\n",
       " 'outstretched',\n",
       " 'pole',\n",
       " 'see',\n",
       " 'shine',\n",
       " 'smiles',\n",
       " 'soft',\n",
       " 'stole',\n",
       " 'sunned',\n",
       " 'tears:',\n",
       " 'that',\n",
       " 'told',\n",
       " 'tree',\n",
       " 'veild',\n",
       " 'was',\n",
       " 'waterd',\n",
       " 'wiles',\n",
       " 'with',\n",
       " 'wrath'}"
      ]
     },
     "execution_count": 66,
     "metadata": {},
     "output_type": "execute_result"
    }
   ],
   "source": [
    "blacklist = ['and', 'as', 'an', 'a', 'the', 'in', 'it']\n",
    "\n",
    "poem = \"\"\"I was angry with my friend; \n",
    "I told my wrath, my wrath did end.\n",
    "I was angry with my foe: \n",
    "I told it not, my wrath did grow. \n",
    "\n",
    "And I waterd it in fears,\n",
    "Night & morning with my tears: \n",
    "And I sunned it with smiles,\n",
    "And with soft deceitful wiles. \n",
    "\n",
    "And it grew both day and night. \n",
    "Till it bore an apple bright. \n",
    "And my foe beheld it shine,\n",
    "And he knew that it was mine. \n",
    "\n",
    "And into my garden stole, \n",
    "When the night had veild the pole; \n",
    "In the morning glad I see; \n",
    "My foe outstretched beneath the tree.\"\"\"\n",
    "\n",
    "# Your code here:\n",
    "#import re \n",
    "#re.findall(word to find, in my string)\n",
    "\n",
    "\n",
    "import re\n",
    "split_poem = re.split('[;,.\\n ]', poem)\n",
    "\n",
    "split_poem2=[]\n",
    "for word in split_poem:\n",
    "    if word !='':\n",
    "        split_poem2.append(word)\n",
    "split_poem2    \n",
    "\n",
    "blacklist_set=set(blacklist)\n",
    "split_poem_set=set(split_poem2)\n",
    "\n",
    "result = split_poem_set.difference(blacklist_set)  #in split_poem_set but not in blacklist_set\n",
    "result \n",
    "#import re\n",
    "#for word in blacklist:\n",
    "#    re.findall(word, poem)  "
   ]
  },
  {
   "cell_type": "markdown",
   "metadata": {},
   "source": [
    "# Challenge 3 - Regular Expressions\n",
    "\n",
    "Sometimes, we would like to perform more complex manipulations of our string. This is where regular expressions come in handy. In the cell below, return all characters that are upper case from the string specified below."
   ]
  },
  {
   "cell_type": "code",
   "execution_count": 67,
   "metadata": {},
   "outputs": [
    {
     "data": {
      "text/plain": [
       "['T', 'P']"
      ]
     },
     "execution_count": 67,
     "metadata": {},
     "output_type": "execute_result"
    }
   ],
   "source": [
    "import re\n",
    "\n",
    "poem = \"\"\"The apparition of these faces in the crowd;\n",
    "Petals on a wet, black bough.\"\"\"\n",
    "\n",
    "# Your code here:\n",
    "rule=\"[A-Z]\"\n",
    "re.findall(rule,poem)"
   ]
  },
  {
   "cell_type": "markdown",
   "metadata": {},
   "source": [
    "In the cell below, filter the list provided and return all elements of the list containing a number. To filter the list, use the `re.search` function. Check if the function does not return `None`. You can read more about the `re.search` function [here](https://docs.python.org/3/library/re.html)."
   ]
  },
  {
   "cell_type": "code",
   "execution_count": 80,
   "metadata": {},
   "outputs": [
    {
     "data": {
      "text/plain": [
       "['123abc', 'abc123', 'JohnSmith1', 'ABBY4']"
      ]
     },
     "execution_count": 80,
     "metadata": {},
     "output_type": "execute_result"
    }
   ],
   "source": [
    "data = ['123abc', 'abc123', 'JohnSmith1', 'ABBY4', 'JANE']\n",
    "\n",
    "# Your code here:\n",
    "\n",
    "\n",
    "#x=[re.search(\"[0-9]\", x) for x in data]\n",
    "#x\n",
    "\n",
    "import re\n",
    "match =[]\n",
    "for x in data:\n",
    "    if re.search(\"[0-9]+\", x):\n",
    "        match.append(x)\n",
    "\n",
    "match\n",
    "\n"
   ]
  },
  {
   "cell_type": "markdown",
   "metadata": {},
   "source": [
    "# Bonus Challenge - Regular Expressions II\n",
    "\n",
    "In the cell below, filter the list provided to keep only strings containing at least one digit and at least one lower case letter. As in the previous question, use the `re.search` function and check that the result is not `None`.\n",
    "\n",
    "To read more about regular expressions, check out [this link](https://developers.google.com/edu/python/regular-expressions)."
   ]
  },
  {
   "cell_type": "code",
   "execution_count": 79,
   "metadata": {},
   "outputs": [
    {
     "data": {
      "text/plain": [
       "['123abc']"
      ]
     },
     "execution_count": 79,
     "metadata": {},
     "output_type": "execute_result"
    }
   ],
   "source": [
    "data = ['123abc', 'abc123', 'JohnSmith1', 'ABBY4', 'JANE']\n",
    "# Your code here:\n",
    "import re\n",
    "match =[]\n",
    "for x in data:\n",
    "    if re.search(\"[0-9]+[a-z]+\", x):\n",
    "        match.append(x)\n",
    "match\n"
   ]
  },
  {
   "cell_type": "code",
   "execution_count": null,
   "metadata": {},
   "outputs": [],
   "source": []
  }
 ],
 "metadata": {
  "kernelspec": {
   "display_name": "Python 3 (ipykernel)",
   "language": "python",
   "name": "python3"
  },
  "language_info": {
   "codemirror_mode": {
    "name": "ipython",
    "version": 3
   },
   "file_extension": ".py",
   "mimetype": "text/x-python",
   "name": "python",
   "nbconvert_exporter": "python",
   "pygments_lexer": "ipython3",
   "version": "3.9.7"
  }
 },
 "nbformat": 4,
 "nbformat_minor": 2
}
