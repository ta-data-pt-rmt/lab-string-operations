{
 "cells": [
  {
   "cell_type": "markdown",
   "metadata": {},
   "source": [
    "# String Operations Lab\n",
    "\n",
    "**Before your start:**\n",
    "\n",
    "- Read the README.md file\n",
    "- Comment as much as you can and use the resources in the README.md file\n",
    "- Happy learning!"
   ]
  },
  {
   "cell_type": "code",
   "execution_count": 35,
   "metadata": {},
   "outputs": [],
   "source": [
    "import re"
   ]
  },
  {
   "cell_type": "markdown",
   "metadata": {},
   "source": [
    "# Challenge 1 - Combining Strings\n",
    "\n",
    "Combining strings is an important skill to acquire. There are multiple ways of combining strings in Python, as well as combining strings with variables. We will explore this in the first challenge. In the cell below, combine the strings in the list and add spaces between the strings (do not add a space after the last string). Insert a period after the last string."
   ]
  },
  {
   "cell_type": "code",
   "execution_count": 8,
   "metadata": {},
   "outputs": [
    {
     "name": "stdout",
     "output_type": "stream",
     "text": [
      "Durante un tiempo no estuvo segura de si su marido era su marido.\n"
     ]
    }
   ],
   "source": [
    "str_list = ['Durante', 'un', 'tiempo', 'no', 'estuvo', 'segura', 'de', 'si', 'su', 'marido', 'era', 'su', 'marido']\n",
    "# Your code here:\n",
    "print(\" \".join(str_list)+\".\")"
   ]
  },
  {
   "cell_type": "markdown",
   "metadata": {},
   "source": [
    "In the cell below, use the list of strings to create a grocery list. Start the list with the string `Grocery list: ` and include a comma and a space between each item except for the last one. Include a period at the end. Only include foods in the list that start with the letter 'b' and ensure all foods are lower case."
   ]
  },
  {
   "cell_type": "code",
   "execution_count": 56,
   "metadata": {},
   "outputs": [
    {
     "name": "stdout",
     "output_type": "stream",
     "text": [
      "Grocery list: bananas, bread, brownie mix, broccoli.\n"
     ]
    }
   ],
   "source": [
    "food_list = ['Bananas', 'Chocolate', 'bread', 'diapers', 'Ice Cream', 'Brownie Mix', 'broccoli']\n",
    "\n",
    "Grocery_list = []\n",
    "\n",
    "for item in food_list:\n",
    "    if item.lower().startswith(\"b\"):\n",
    "        Grocery_list.append(item.lower())\n",
    "\n",
    "print(\"Grocery list:\",(\", \".join(Grocery_list)+\".\"))"
   ]
  },
  {
   "cell_type": "markdown",
   "metadata": {},
   "source": [
    "In the cell below, write a function that computes the area of a circle using its radius. Compute the area of the circle and insert the radius and the area between the two strings. Make sure to include spaces between the variable and the strings. \n",
    "\n",
    "Note: You can use the techniques we have learned so far or use f-strings. F-strings allow us to embed code inside strings. You can read more about f-strings [here](https://www.python.org/dev/peps/pep-0498/)."
   ]
  },
  {
   "cell_type": "code",
   "execution_count": 6,
   "metadata": {},
   "outputs": [
    {
     "name": "stdout",
     "output_type": "stream",
     "text": [
      "The area of the circle with radius: 4.5 is: 63.61725123519331\n"
     ]
    }
   ],
   "source": [
    "import math\n",
    "\n",
    "string1 = \"The area of the circle with radius:\"\n",
    "string2  = \"is:\"\n",
    "radius = 4.5\n",
    "\n",
    "def area(x, pi = math.pi):\n",
    "    return pi * (x**2)\n",
    "    \n",
    "# Your output string here:\n",
    "\n",
    "circle_area = area(radius)\n",
    "\n",
    "output_string = f\"{string1} {radius} {string2} {circle_area}\"\n",
    "print(output_string)\n"
   ]
  },
  {
   "cell_type": "code",
   "execution_count": 7,
   "metadata": {},
   "outputs": [
    {
     "name": "stdout",
     "output_type": "stream",
     "text": [
      "The area of the circle with radius: 4.5 is: 63.61725123519331\n"
     ]
    }
   ],
   "source": [
    "import math\n",
    "\n",
    "string1 = \"The area of the circle with radius:\"\n",
    "string2  = \"is:\"\n",
    "radius = 4.5\n",
    "\n",
    "def area(x, pi = math.pi):\n",
    "    return pi * (x**2)\n",
    "    \n",
    "# Your output string here:\n",
    "\n",
    "circle_area = area(radius)\n",
    "\n",
    "print(string1, radius, string2, circle_area)"
   ]
  },
  {
   "cell_type": "markdown",
   "metadata": {},
   "source": [
    "# Challenge 2 - Splitting Strings\n",
    "\n",
    "We have first looked at combining strings into one long string. There are times where we need to do the opposite and split the string into smaller components for further analysis. \n",
    "\n",
    "In the cell below, split the string into a list of strings using the space delimiter. Count the frequency of each word in the string in a dictionary. Strip the periods, line breaks and commas from the text. Make sure to remove empty strings from your dictionary."
   ]
  },
  {
   "cell_type": "code",
   "execution_count": 16,
   "metadata": {},
   "outputs": [
    {
     "data": {
      "text/plain": [
       "['Some',\n",
       " 'say',\n",
       " 'the',\n",
       " 'world',\n",
       " 'will',\n",
       " 'end',\n",
       " 'in',\n",
       " 'fire,\\nSome',\n",
       " 'say',\n",
       " 'in',\n",
       " 'ice.\\nFrom',\n",
       " 'what',\n",
       " 'I’ve',\n",
       " 'tasted',\n",
       " 'of',\n",
       " 'desire\\nI',\n",
       " 'hold',\n",
       " 'with',\n",
       " 'those',\n",
       " 'who',\n",
       " 'favor',\n",
       " 'fire.\\nBut',\n",
       " 'if',\n",
       " 'it',\n",
       " 'had',\n",
       " 'to',\n",
       " 'perish',\n",
       " 'twice,\\nI',\n",
       " 'think',\n",
       " 'I',\n",
       " 'know',\n",
       " 'enough',\n",
       " 'of',\n",
       " 'hate\\nTo',\n",
       " 'say',\n",
       " 'that',\n",
       " 'for',\n",
       " 'destruction',\n",
       " 'ice\\nIs',\n",
       " 'also',\n",
       " 'great\\nAnd',\n",
       " 'would',\n",
       " 'suffice.']"
      ]
     },
     "metadata": {},
     "output_type": "display_data"
    },
    {
     "data": {
      "text/plain": [
       "{'Some': 1,\n",
       " 'say': 3,\n",
       " 'the': 1,\n",
       " 'world': 1,\n",
       " 'will': 1,\n",
       " 'end': 1,\n",
       " 'in': 2,\n",
       " 'fire,\\nSome': 1,\n",
       " 'ice.\\nFrom': 1,\n",
       " 'what': 1,\n",
       " 'I’ve': 1,\n",
       " 'tasted': 1,\n",
       " 'of': 2,\n",
       " 'desire\\nI': 1,\n",
       " 'hold': 1,\n",
       " 'with': 1,\n",
       " 'those': 1,\n",
       " 'who': 1,\n",
       " 'favor': 1,\n",
       " 'fire.\\nBut': 1,\n",
       " 'if': 1,\n",
       " 'it': 1,\n",
       " 'had': 1,\n",
       " 'to': 1,\n",
       " 'perish': 1,\n",
       " 'twice,\\nI': 1,\n",
       " 'think': 1,\n",
       " 'I': 1,\n",
       " 'know': 1,\n",
       " 'enough': 1,\n",
       " 'hate\\nTo': 1,\n",
       " 'that': 1,\n",
       " 'for': 1,\n",
       " 'destruction': 1,\n",
       " 'ice\\nIs': 1,\n",
       " 'also': 1,\n",
       " 'great\\nAnd': 1,\n",
       " 'would': 1,\n",
       " 'suffice.': 1}"
      ]
     },
     "metadata": {},
     "output_type": "display_data"
    }
   ],
   "source": [
    "poem = \"\"\"Some say the world will end in fire,\n",
    "Some say in ice.\n",
    "From what I’ve tasted of desire\n",
    "I hold with those who favor fire.\n",
    "But if it had to perish twice,\n",
    "I think I know enough of hate\n",
    "To say that for destruction ice\n",
    "Is also great\n",
    "And would suffice.\"\"\"\n",
    "\n",
    "# Your code here:\n",
    "poem.strip(\"\\n\")\n",
    "poem.strip(\",\")\n",
    "poem.strip(\".\")\n",
    "\n",
    "space_list = poem.split(\" \")\n",
    "display(space_list)\n",
    "\n",
    "count_words = {}\n",
    "\n",
    "for word in space_list:\n",
    "    if word in count_words.keys():\n",
    "        count_words[word] = count_words[word]+1\n",
    "    else:\n",
    "        count_words[word] = 1\n",
    "\n",
    "display(count_words)"
   ]
  },
  {
   "cell_type": "code",
   "execution_count": 18,
   "metadata": {},
   "outputs": [
    {
     "name": "stdout",
     "output_type": "stream",
     "text": [
      "{'some': 2, 'say': 3, 'the': 1, 'world': 1, 'will': 1, 'end': 1, 'in': 2, 'fire,': 1, 'ice.': 1, 'from': 1, 'what': 1, 'i’ve': 1, 'tasted': 1, 'of': 2, 'desire': 1, 'i': 3, 'hold': 1, 'with': 1, 'those': 1, 'who': 1, 'favor': 1, 'fire.': 1, 'but': 1, 'if': 1, 'it': 1, 'had': 1, 'to': 2, 'perish': 1, 'twice,': 1, 'think': 1, 'know': 1, 'enough': 1, 'hate': 1, 'that': 1, 'for': 1, 'destruction': 1, 'ice': 1, 'is': 1, 'also': 1, 'great': 1, 'and': 1, 'would': 1, 'suffice': 1}\n"
     ]
    }
   ],
   "source": [
    "poem = \"\"\"Some say the world will end in fire,\n",
    "Some say in ice.\n",
    "From what I’ve tasted of desire\n",
    "I hold with those who favor fire.\n",
    "But if it had to perish twice,\n",
    "I think I know enough of hate\n",
    "To say that for destruction ice\n",
    "Is also great\n",
    "And would suffice.\"\"\"\n",
    "\n",
    "punctuation = \".,!?'\"\n",
    "poem_stripped = poem.strip(punctuation)\n",
    "\n",
    "word_list = poem_stripped.split()\n",
    "\n",
    "word_count = {}\n",
    "for word in word_list:\n",
    "    word = word.lower() \n",
    "    if word in word_count:\n",
    "        word_count[word] += 1\n",
    "    else:\n",
    "        word_count[word] = 1\n",
    "\n",
    "print(word_count)"
   ]
  },
  {
   "cell_type": "markdown",
   "metadata": {},
   "source": [
    "In the cell below, find all the words that appear in the text and do not appear in the blacklist. You must parse the string but can choose any data structure you wish for the words that do not appear in the blacklist. Remove all non letter characters and convert all words to lower case."
   ]
  },
  {
   "cell_type": "code",
   "execution_count": 19,
   "metadata": {},
   "outputs": [
    {
     "name": "stdout",
     "output_type": "stream",
     "text": [
      "{'i': 7, 'was': 3, 'angry': 2, 'with': 5, 'my': 9, 'friend;': 1, 'told': 2, 'wrath,': 1, 'wrath': 2, 'did': 2, 'end.': 1, 'foe:': 1, 'not,': 1, 'grow.': 1, 'waterd': 1, 'fears,': 1, 'night': 2, '&': 1, 'morning': 2, 'tears:': 1, 'sunned': 1, 'smiles,': 1, 'soft': 1, 'deceitful': 1, 'wiles.': 1, 'grew': 1, 'both': 1, 'day': 1, 'night.': 1, 'till': 1, 'bore': 1, 'apple': 1, 'bright.': 1, 'foe': 2, 'beheld': 1, 'shine,': 1, 'he': 1, 'knew': 1, 'that': 1, 'mine.': 1, 'into': 1, 'garden': 1, 'stole,': 1, 'when': 1, 'had': 1, 'veild': 1, 'pole;': 1, 'glad': 1, 'see;': 1, 'outstretched': 1, 'beneath': 1, 'tree': 1}\n"
     ]
    }
   ],
   "source": [
    "blacklist = ['and', 'as', 'an', 'a', 'the', 'in', 'it']\n",
    "\n",
    "poem = \"\"\"I was angry with my friend; \n",
    "I told my wrath, my wrath did end.\n",
    "I was angry with my foe: \n",
    "I told it not, my wrath did grow. \n",
    "\n",
    "And I waterd it in fears,\n",
    "Night & morning with my tears: \n",
    "And I sunned it with smiles,\n",
    "And with soft deceitful wiles. \n",
    "\n",
    "And it grew both day and night. \n",
    "Till it bore an apple bright. \n",
    "And my foe beheld it shine,\n",
    "And he knew that it was mine. \n",
    "\n",
    "And into my garden stole, \n",
    "When the night had veild the pole; \n",
    "In the morning glad I see; \n",
    "My foe outstretched beneath the tree.\"\"\"\n",
    "\n",
    "# Your code here:\n",
    "\n",
    "punctuation = \".,!?'\"\n",
    "poem_stripped = poem.strip(punctuation)\n",
    "\n",
    "word_list = poem_stripped.split()\n",
    "\n",
    "word_count = {}\n",
    "for word in word_list:\n",
    "    word = word.lower()\n",
    "    if word in blacklist:\n",
    "        continue\n",
    "    else: \n",
    "        if word in word_count:\n",
    "          word_count[word] += 1\n",
    "        else:\n",
    "          word_count[word] = 1\n",
    "\n",
    "print(word_count)\n"
   ]
  },
  {
   "cell_type": "markdown",
   "metadata": {},
   "source": [
    "# Challenge 3 - Regular Expressions\n",
    "\n",
    "Sometimes, we would like to perform more complex manipulations of our string. This is where regular expressions come in handy. In the cell below, return all characters that are upper case from the string specified below."
   ]
  },
  {
   "cell_type": "code",
   "execution_count": 21,
   "metadata": {},
   "outputs": [
    {
     "data": {
      "text/plain": [
       "['T', 'P']"
      ]
     },
     "execution_count": 21,
     "metadata": {},
     "output_type": "execute_result"
    }
   ],
   "source": [
    "import re\n",
    "\n",
    "poem = \"\"\"The apparition of these faces in the crowd;\n",
    "Petals on a wet, black bough.\"\"\"\n",
    "\n",
    "# Your code here:\n",
    "rule = '[A-Z]'\n",
    "re.findall(rule, poem)"
   ]
  },
  {
   "cell_type": "markdown",
   "metadata": {},
   "source": [
    "In the cell below, filter the list provided and return all elements of the list containing a number. To filter the list, use the `re.search` function. Check if the function does not return `None`. You can read more about the `re.search` function [here](https://docs.python.org/3/library/re.html)."
   ]
  },
  {
   "cell_type": "code",
   "execution_count": 30,
   "metadata": {},
   "outputs": [
    {
     "name": "stdout",
     "output_type": "stream",
     "text": [
      "['123abc', 'abc123', 'JohnSmith1', 'ABBY4']\n"
     ]
    }
   ],
   "source": [
    "data = ['123abc', 'abc123', 'JohnSmith1', 'ABBY4', 'JANE']\n",
    "data2 = []\n",
    "\n",
    "# Your code here:\n",
    "for elements in data: \n",
    "    if re.search(r'\\d',elements) is not None:\n",
    "        data2.append(elements)\n",
    "\n",
    "print(data2)\n"
   ]
  },
  {
   "cell_type": "markdown",
   "metadata": {},
   "source": [
    "# Bonus Challenge - Regular Expressions II\n",
    "\n",
    "In the cell below, filter the list provided to keep only strings containing at least one digit and at least one lower case letter. As in the previous question, use the `re.search` function and check that the result is not `None`.\n",
    "\n",
    "To read more about regular expressions, check out [this link](https://developers.google.com/edu/python/regular-expressions)."
   ]
  },
  {
   "cell_type": "code",
   "execution_count": null,
   "metadata": {},
   "outputs": [],
   "source": [
    "data = ['123abc', 'abc123', 'JohnSmith1', 'ABBY4', 'JANE']\n",
    "# Your code here:\n"
   ]
  }
 ],
 "metadata": {
  "kernelspec": {
   "display_name": "Python 3",
   "language": "python",
   "name": "python3"
  },
  "language_info": {
   "codemirror_mode": {
    "name": "ipython",
    "version": 3
   },
   "file_extension": ".py",
   "mimetype": "text/x-python",
   "name": "python",
   "nbconvert_exporter": "python",
   "pygments_lexer": "ipython3",
   "version": "3.9.6"
  }
 },
 "nbformat": 4,
 "nbformat_minor": 2
}
