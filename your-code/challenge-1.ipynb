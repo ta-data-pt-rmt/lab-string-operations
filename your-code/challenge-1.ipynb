{
 "cells": [
  {
   "cell_type": "markdown",
   "metadata": {},
   "source": [
    "# String Operations Lab\n",
    "\n",
    "**Before your start:**\n",
    "\n",
    "- Read the README.md file\n",
    "- Comment as much as you can and use the resources in the README.md file\n",
    "- Happy learning!"
   ]
  },
  {
   "cell_type": "code",
   "execution_count": 4,
   "metadata": {},
   "outputs": [],
   "source": [
    "import re"
   ]
  },
  {
   "cell_type": "markdown",
   "metadata": {},
   "source": [
    "# Challenge 1 - Combining Strings\n",
    "\n",
    "Combining strings is an important skill to acquire. There are multiple ways of combining strings in Python, as well as combining strings with variables. We will explore this in the first challenge. In the cell below, combine the strings in the list and add spaces between the strings (do not add a space after the last string). Insert a period after the last string."
   ]
  },
  {
   "cell_type": "code",
   "execution_count": 1,
   "metadata": {},
   "outputs": [
    {
     "name": "stdout",
     "output_type": "stream",
     "text": [
      "Durante un tiempo no estuvo segura de si su marido era su marido.\n"
     ]
    }
   ],
   "source": [
    "str_list = ['Durante', 'un', 'tiempo', 'no', 'estuvo', 'segura', 'de', 'si', 'su', 'marido', 'era', 'su', 'marido']\n",
    "# Your code here:\n",
    "st = \" \".join(str_list)+ \".\"\n",
    "print(st)\n"
   ]
  },
  {
   "cell_type": "markdown",
   "metadata": {},
   "source": [
    "In the cell below, use the list of strings to create a grocery list. Start the list with the string `Grocery list: ` and include a comma and a space between each item except for the last one. Include a period at the end. Only include foods in the list that start with the letter 'b' and ensure all foods are lower case."
   ]
  },
  {
   "cell_type": "code",
   "execution_count": 5,
   "metadata": {},
   "outputs": [
    {
     "name": "stdout",
     "output_type": "stream",
     "text": [
      "Grocery list:Bananas, Chocolate, bread, diapers, Ice Cream, Brownie Mix, broccoli.\n",
      "['bananas', 'bread', 'brownie', 'broccoli']\n",
      "Grocery list:bananas, bread, brownie, broccoli.\n"
     ]
    }
   ],
   "source": [
    "food_list = ['Bananas', 'Chocolate', 'bread', 'diapers', 'Ice Cream', 'Brownie Mix', 'broccoli']\n",
    "# Your code here:\n",
    "grocery = \"Grocery list:\"+ \", \".join(food_list)+\".\"\n",
    "print(grocery)\n",
    "\n",
    "#only foods that start with \"b\" an in lower case:\n",
    "grocery = grocery.lower()\n",
    "rule = '[b][a-z]+'\n",
    "final_grocery = re.findall(rule, grocery)\n",
    "#final_grocery_list = \"Grocery list:\" + final_grocery\n",
    "print(final_grocery)\n",
    "\n",
    "final_grocery_list = \"Grocery list:\"+ \", \".join(final_grocery)+\".\"\n",
    "print(final_grocery_list)"
   ]
  },
  {
   "cell_type": "code",
   "execution_count": 6,
   "metadata": {},
   "outputs": [
    {
     "name": "stdout",
     "output_type": "stream",
     "text": [
      "['Bananas', 'Chocolate', 'bread', 'diapers', 'Ice Cream', 'Brownie Mix', 'broccoli']\n",
      "Grocery list:bananas, bread, brownie, broccoli.\n"
     ]
    }
   ],
   "source": [
    "print(food_list)\n",
    "print(final_grocery_list)"
   ]
  },
  {
   "cell_type": "markdown",
   "metadata": {},
   "source": [
    "In the cell below, write a function that computes the area of a circle using its radius. Compute the area of the circle and insert the radius and the area between the two strings. Make sure to include spaces between the variable and the strings. \n",
    "\n",
    "Note: You can use the techniques we have learned so far or use f-strings. F-strings allow us to embed code inside strings. You can read more about f-strings [here](https://www.python.org/dev/peps/pep-0498/)."
   ]
  },
  {
   "cell_type": "code",
   "execution_count": 7,
   "metadata": {},
   "outputs": [
    {
     "name": "stdout",
     "output_type": "stream",
     "text": [
      "The area of the circle with radius: 3 is: 28.274333882308138\n"
     ]
    }
   ],
   "source": [
    "import math\n",
    "\n",
    "string1 = \"The area of the circle with radius:\"\n",
    "string2  = \"is:\"\n",
    "radius = 4.5\n",
    "\n",
    "def area(x, pi = math.pi):\n",
    "    # This function takes a radius and returns the area of a circle. We also pass a default value for pi.\n",
    "    # Input: Float (and default value for pi)\n",
    "    # Output: Float\n",
    "    y = pi * (x**2)\n",
    "    string3 = string1 + \" \" + str(x) + \" \"+ string2 + \" \" + str(y)\n",
    "    # Sample input: 5.0\n",
    "    # Sample Output: 78.53981633\n",
    "    #print(string1, x, string2,pi * (x**2))\n",
    "    # Your code here:\n",
    "    #print(string1, x, string2, pi * (x**2))\n",
    "    return string3\n",
    "    \n",
    "# Your output string here:\n",
    "print(area(3))"
   ]
  },
  {
   "cell_type": "markdown",
   "metadata": {},
   "source": [
    "# Challenge 2 - Splitting Strings\n",
    "\n",
    "We have first looked at combining strings into one long string. There are times where we need to do the opposite and split the string into smaller components for further analysis. \n",
    "\n",
    "In the cell below, split the string into a list of strings using the space delimiter. Count the frequency of each word in the string in a dictionary. Strip the periods, line breaks and commas from the text. Make sure to remove empty strings from your dictionary."
   ]
  },
  {
   "cell_type": "code",
   "execution_count": 9,
   "metadata": {},
   "outputs": [
    {
     "name": "stdout",
     "output_type": "stream",
     "text": [
      "{'enough': 2, 'also': 3, 'hate': 1, 'who': 1, 'had': 1, 'think': 1, 'for': 2, 'But': 2, 'twice': 2, 'tasted': 3, 'in': 2, 'fire': 2, 'To': 1, 'destruction': 1, 'world': 1, 'of': 1, 'From': 2, 'what': 1, 'perish': 3, 'it': 1, 'favor': 1, 'I’ve': 1, 'to': 1, 'Is': 1, 'know': 2, 'great': 1, 'I': 1, 'that': 1, 'say': 1, 'with': 1, 'desire': 1, 'suffice': 1, 'ice': 3, 'will': 1, 'end': 3, 'And': 1, 'would': 1, 'the': 2, 'Some': 1, 'those': 1, 'if': 3, 'hold': 1}\n"
     ]
    }
   ],
   "source": [
    "poem = \"\"\"Some say the world will end in fire,\n",
    "Some say in ice.\n",
    "From what I’ve tasted of desire\n",
    "I hold with those who favor fire.\n",
    "But if it had to perish twice,\n",
    "I think I know enough of hate\n",
    "To say that for destruction ice\n",
    "Is also great\n",
    "And would suffice.\"\"\"\n",
    "\n",
    "# Your code here:\n",
    "\n",
    "poem = poem.replace(\",\",\"\")\n",
    "poem = poem.replace(\".\",\"\")\n",
    "poem = poem.replace(\"\\n\", \" \")\n",
    "a = poem.split(\" \")\n",
    "#c = poem.split(\"\\n\")\n",
    "\n",
    "\n",
    "freq_word = []\n",
    "for element in a:\n",
    "    freq_word.append(a.count(element))\n",
    "    \n",
    "set1 = {value for value in a}\n",
    "#print(set1)\n",
    "  \n",
    "    \n",
    "my_dict = {}\n",
    "my_dict = dict(zip(set1, freq_word))\n",
    "\n",
    "\n",
    "#poem.count(\"Hello\")\n",
    "#my_dict = {}\n",
    "\n",
    "print(my_dict)"
   ]
  },
  {
   "cell_type": "markdown",
   "metadata": {},
   "source": [
    "In the cell below, find all the words that appear in the text and do not appear in the blacklist. You must parse the string but can choose any data structure you wish for the words that do not appear in the blacklist. Remove all non letter characters and convert all words to lower case."
   ]
  },
  {
   "cell_type": "code",
   "execution_count": 10,
   "metadata": {},
   "outputs": [
    {
     "name": "stdout",
     "output_type": "stream",
     "text": [
      "{'', 'beneath', 'knew', 'into', 'outstretched', 'grew', 'had', 'day', 'deceitful', 'sunned', 'soft', 'wiles', 'not', 'stole', 'veild', 'smiles', 'i', '&', 'did', 'waterd', 'night', 'wrath', 'both', 'see', 'when', 'till', 'tree', 'that', 'foe', 'pole', 'with', 'friend', 'morning', 'glad', 'tears', 'mine', 'apple', 'end', 'shine', 'was', 'told', 'bore', 'my', 'fears', 'bright', 'beheld', 'grow', 'he', 'angry', 'garden'}\n",
      "i was angry with my friend  i told my wrath my wrath did end i was angry with my foe  i told it not my wrath did grow   and i waterd it in fears night & morning with my tears  and i sunned it with smiles and with soft deceitful wiles   and it grew both day and night  till it bore an apple bright  and my foe beheld it shine and he knew that it was mine   and into my garden stole  when the night had veild the pole  in the morning glad i see  my foe outstretched beneath the tree\n"
     ]
    }
   ],
   "source": [
    "blacklist = ['and', 'as', 'an', 'a', 'the', 'in', 'it']\n",
    "\n",
    "poem = \"\"\"I was angry with my friend; \n",
    "I told my wrath, my wrath did end.\n",
    "I was angry with my foe: \n",
    "I told it not, my wrath did grow. \n",
    "\n",
    "And I waterd it in fears,\n",
    "Night & morning with my tears: \n",
    "And I sunned it with smiles,\n",
    "And with soft deceitful wiles. \n",
    "\n",
    "And it grew both day and night. \n",
    "Till it bore an apple bright. \n",
    "And my foe beheld it shine,\n",
    "And he knew that it was mine. \n",
    "\n",
    "And into my garden stole, \n",
    "When the night had veild the pole; \n",
    "In the morning glad I see; \n",
    "My foe outstretched beneath the tree.\"\"\"\n",
    "\n",
    "# Your code here:\n",
    "poem = poem.strip() \n",
    "poem = poem.lower()\n",
    "poem = poem.replace(\",\",\"\")\n",
    "\n",
    "poem = poem.replace(\":\",\"\")\n",
    "poem = poem.replace(\";\",\"\")\n",
    "poem = poem.replace(\".\",\"\")\n",
    "poem = poem.replace(\"\\n\", \" \")\n",
    "b = poem.split(\" \")\n",
    "#print(b)\n",
    "c= []\n",
    "for element in b:\n",
    "    if element not in blacklist: \n",
    "        c.append(element)\n",
    "\n",
    "set1 = {value for value in c}\n",
    "#print(set1)\n",
    "#set2 = {value for value in blacklist}\n",
    "\n",
    "#set3=set2.difference(set1)\n",
    "\n",
    "print(set1)\n",
    "print(poem)"
   ]
  },
  {
   "cell_type": "markdown",
   "metadata": {},
   "source": [
    "# Challenge 3 - Regular Expressions\n",
    "\n",
    "Sometimes, we would like to perform more complex manipulations of our string. This is where regular expressions come in handy. In the cell below, return all characters that are upper case from the string specified below."
   ]
  },
  {
   "cell_type": "code",
   "execution_count": 11,
   "metadata": {},
   "outputs": [
    {
     "data": {
      "text/plain": [
       "['T', 'P']"
      ]
     },
     "execution_count": 11,
     "metadata": {},
     "output_type": "execute_result"
    }
   ],
   "source": [
    "import re\n",
    "\n",
    "poem = \"\"\"The apparition of these faces in the crowd;\n",
    "Petals on a wet, black bough.\"\"\"\n",
    "\n",
    "# Your code here:\n",
    "rule = '[A-Z]+'\n",
    "\n",
    "re.findall(rule, poem)"
   ]
  },
  {
   "cell_type": "markdown",
   "metadata": {},
   "source": [
    "In the cell below, filter the list provided and return all elements of the list containing a number. To filter the list, use the `re.search` function. Check if the function does not return `None`. You can read more about the `re.search` function [here](https://docs.python.org/3/library/re.html)."
   ]
  },
  {
   "cell_type": "code",
   "execution_count": 12,
   "metadata": {},
   "outputs": [
    {
     "name": "stdout",
     "output_type": "stream",
     "text": [
      "123abc abc123 JohnSmith1 ABBY4 JANE.\n",
      "123abc\n",
      "abc123\n",
      "JohnSmith1\n",
      "ABBY4\n"
     ]
    }
   ],
   "source": [
    "data = ['123abc', 'abc123', 'JohnSmith1', 'ABBY4', 'JANE']\n",
    "st = \" \".join(data)+ \".\"\n",
    "print(st)\n",
    "\n",
    "# Your code here:\n",
    "if re.search('[01234567890]', st):\n",
    "    for element in data:\n",
    "        if re.search('[01234567890]', element): \n",
    "            print(element)\n"
   ]
  },
  {
   "cell_type": "markdown",
   "metadata": {},
   "source": [
    "# Bonus Challenge - Regular Expressions II\n",
    "\n",
    "In the cell below, filter the list provided to keep only strings containing at least one digit and at least one lower case letter. As in the previous question, use the `re.search` function and check that the result is not `None`.\n",
    "\n",
    "To read more about regular expressions, check out [this link](https://developers.google.com/edu/python/regular-expressions)."
   ]
  },
  {
   "cell_type": "code",
   "execution_count": 13,
   "metadata": {},
   "outputs": [
    {
     "name": "stdout",
     "output_type": "stream",
     "text": [
      "123abc abc123 JohnSmith1 ABBY4 JANE.\n",
      "123abc\n",
      "abc123\n",
      "JohnSmith1\n"
     ]
    }
   ],
   "source": [
    "data = ['123abc', 'abc123', 'JohnSmith1', 'ABBY4', 'JANE']\n",
    "st = \" \".join(data)+ \".\"\n",
    "print(st)\n",
    "# Your code here:\n",
    "#at least, one [123456789] and one lower case [a-z]\n",
    "if re.search('[0123456789]', st):\n",
    "    if re.search('[a-z]', st):\n",
    "        for element in data:\n",
    "            if re.search('[0123456789]', element):\n",
    "                if re.search('[a-z]', element):\n",
    "                    print(element)"
   ]
  }
 ],
 "metadata": {
  "kernelspec": {
   "display_name": "Python 3",
   "language": "python",
   "name": "python3"
  },
  "language_info": {
   "codemirror_mode": {
    "name": "ipython",
    "version": 3
   },
   "file_extension": ".py",
   "mimetype": "text/x-python",
   "name": "python",
   "nbconvert_exporter": "python",
   "pygments_lexer": "ipython3",
   "version": "3.7.6"
  }
 },
 "nbformat": 4,
 "nbformat_minor": 2
}
